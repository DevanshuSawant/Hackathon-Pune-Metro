{
 "cells": [
  {
   "cell_type": "code",
   "execution_count": null,
   "metadata": {},
   "outputs": [],
   "source": [
    "import cv2\n",
    "\n",
    "video_path = r'dataset/escalator-fall/1_avi.avi'\n",
    "# Open the video file\n",
    "cap = cv2.VideoCapture(video_path)\n",
    "frame_count = 0\n",
    "# Loop through the video frames\n",
    "while cap.isOpened():\n",
    "    success, frame = cap.read()\n",
    "\n",
    "    if success:\n",
    "        cv2.imwrite(f'1_false_avi/frame_{frame_count}.jpg', frame)\n",
    "        print(frame_count)\n",
    "\n",
    "    else:\n",
    "        break\n",
    "    \n",
    "    frame_count += 1\n",
    "cap.release()"
   ]
  }
 ],
 "metadata": {
  "language_info": {
   "name": "python"
  }
 },
 "nbformat": 4,
 "nbformat_minor": 2
}
