{
 "cells": [
  {
   "cell_type": "code",
   "execution_count": 4,
   "metadata": {},
   "outputs": [
    {
     "name": "stderr",
     "output_type": "stream",
     "text": [
      "Processing Frames:  25%|██▍       | 4875/19515 [04:07<12:22, 19.72it/s]\n"
     ]
    }
   ],
   "source": [
    "import cv2\n",
    "import os\n",
    "from tqdm import tqdm\n",
    "output_path = 'frames/left-object-3'\n",
    "video_path = r'dataset\\unattended-object\\LeftObject_3.avi'\n",
    "\n",
    "\n",
    "# Open the video file\n",
    "cap = cv2.VideoCapture(video_path)\n",
    "frame_count = 0\n",
    "os.makedirs(output_path, exist_ok=True)\n",
    "# Get the total number of frames in the video\n",
    "total_frames = int(cap.get(cv2.CAP_PROP_FRAME_COUNT))\n",
    "\n",
    "# Create a tqdm progress bar\n",
    "progress_bar = tqdm(total=total_frames, desc='Processing Frames')\n",
    "\n",
    "while cap.isOpened():\n",
    "    success, frame = cap.read()\n",
    "\n",
    "    if success:\n",
    "        cv2.imwrite(f'{output_path}/frame_{frame_count}.jpg', frame)\n",
    "        # print(frame_count)\n",
    "\n",
    "    else:\n",
    "        break\n",
    "    \n",
    "    frame_count += 1\n",
    "    progress_bar.update(1)\n",
    "\n",
    "cap.release()\n",
    "progress_bar.close()\n"
   ]
  }
 ],
 "metadata": {
  "kernelspec": {
   "display_name": ".venv",
   "language": "python",
   "name": "python3"
  },
  "language_info": {
   "codemirror_mode": {
    "name": "ipython",
    "version": 3
   },
   "file_extension": ".py",
   "mimetype": "text/x-python",
   "name": "python",
   "nbconvert_exporter": "python",
   "pygments_lexer": "ipython3",
   "version": "3.12.3"
  }
 },
 "nbformat": 4,
 "nbformat_minor": 2
}
