{
 "cells": [
  {
   "cell_type": "code",
   "execution_count": 10,
   "metadata": {},
   "outputs": [
    {
     "data": {
      "text/plain": [
       "{'type': 'polygon',\n",
       " 'label': 'person',\n",
       " 'x': '803.6692',\n",
       " 'y': '554.4366',\n",
       " 'width': '1217.9055',\n",
       " 'height': '556.9717',\n",
       " 'points': [[270.68710384915494, 832.9224757715328],\n",
       "  [1412.6219817768006, 376.6059232869861],\n",
       "  [1144.8227883536629, 275.9507796486947],\n",
       "  [194.71646080318862, 563.374785355727]]}"
      ]
     },
     "execution_count": 10,
     "metadata": {},
     "output_type": "execute_result"
    }
   ],
   "source": [
    "import json\n",
    "\n",
    "ticketing_dimensions = json.load(open('ticketing_dimensions.json'))\n",
    "ticketing_dimensions['boxes'][0]"
   ]
  },
  {
   "cell_type": "code",
   "execution_count": 31,
   "metadata": {},
   "outputs": [
    {
     "name": "stderr",
     "output_type": "stream",
     "text": [
      "Processing images: 100%|██████████| 198/198 [00:11<00:00, 17.93it/s]\n"
     ]
    }
   ],
   "source": [
    "import cv2\n",
    "import numpy as np\n",
    "import os\n",
    "from tqdm import tqdm\n",
    "\n",
    "os.makedirs('ticketing_plotted', exist_ok=True)\n",
    "\n",
    "for image_name in tqdm(os.listdir('ticketing_test_area'), desc='Processing images'):\n",
    "    image = cv2.imread('ticketing_test_area/' + image_name)\n",
    "    for ticketing_area in ticketing_dimensions['boxes']:\n",
    "        # print(ticketing_area['points'])\n",
    "\n",
    "        # Define the points of the ticketing area\n",
    "        points = np.array(ticketing_area['points'], np.int32)\n",
    "\n",
    "        # Reshape the points array to match the required format\n",
    "        points = points.reshape((-1, 1, 2))\n",
    "\n",
    "        # Draw the polygon on the image\n",
    "        cv2.polylines(image, [points], isClosed=True, color=(0, 255, 0), thickness=2)\n",
    "\n",
    "    # Display the image\n",
    "    cv2.imwrite(f'ticketing_plotted/{image_name}', image)\n",
    "    "
   ]
  },
  {
   "cell_type": "code",
   "execution_count": 25,
   "metadata": {},
   "outputs": [],
   "source": [
    "frame_count = 0\n"
   ]
  },
  {
   "cell_type": "code",
   "execution_count": 27,
   "metadata": {},
   "outputs": [
    {
     "data": {
      "text/plain": [
       "101"
      ]
     },
     "execution_count": 27,
     "metadata": {},
     "output_type": "execute_result"
    }
   ],
   "source": [
    "frame_count"
   ]
  },
  {
   "cell_type": "code",
   "execution_count": 29,
   "metadata": {},
   "outputs": [
    {
     "name": "stdout",
     "output_type": "stream",
     "text": [
      "103\n",
      "104\n",
      "105\n",
      "106\n",
      "107\n",
      "108\n",
      "109\n",
      "110\n",
      "111\n",
      "112\n",
      "113\n",
      "114\n",
      "115\n",
      "116\n",
      "117\n",
      "118\n",
      "119\n",
      "120\n",
      "121\n",
      "122\n",
      "123\n",
      "124\n",
      "125\n",
      "126\n",
      "127\n",
      "128\n",
      "129\n",
      "130\n",
      "131\n",
      "132\n",
      "133\n",
      "134\n",
      "135\n",
      "136\n",
      "137\n",
      "138\n",
      "139\n",
      "140\n",
      "141\n",
      "142\n",
      "143\n",
      "144\n",
      "145\n",
      "146\n",
      "147\n",
      "148\n",
      "149\n",
      "150\n",
      "151\n",
      "152\n",
      "153\n",
      "154\n",
      "155\n",
      "156\n",
      "157\n",
      "158\n",
      "159\n",
      "160\n",
      "161\n",
      "162\n",
      "163\n",
      "164\n",
      "165\n",
      "166\n",
      "167\n",
      "168\n",
      "169\n",
      "170\n",
      "171\n",
      "172\n",
      "173\n",
      "174\n",
      "175\n",
      "176\n",
      "177\n",
      "178\n",
      "179\n",
      "180\n",
      "181\n",
      "182\n",
      "183\n",
      "184\n",
      "185\n",
      "186\n",
      "187\n",
      "188\n",
      "189\n",
      "190\n",
      "191\n",
      "192\n",
      "193\n",
      "194\n",
      "195\n",
      "196\n",
      "197\n",
      "198\n",
      "199\n",
      "200\n"
     ]
    }
   ],
   "source": [
    "import cv2\n",
    "\n",
    "video_path = \"dataset/ticketing-crowd/1 (3).avi\"\n",
    "# Open the video file\n",
    "cap = cv2.VideoCapture(video_path)\n",
    "# frame_count = 0\n",
    "# Loop through the video frames\n",
    "while cap.isOpened():\n",
    "    success, frame = cap.read()\n",
    "    frame_count += 1\n",
    "    if frame_count > 200:\n",
    "        break\n",
    "    if success:\n",
    "        cv2.imwrite(f'ticketing_test_area/frame_{frame_count}.jpg', frame)\n",
    "        print(frame_count)\n",
    "\n",
    "    else:\n",
    "        break\n",
    "    \n",
    "cap.release()"
   ]
  },
  {
   "cell_type": "code",
   "execution_count": 15,
   "metadata": {},
   "outputs": [
    {
     "name": "stdout",
     "output_type": "stream",
     "text": [
      "\n",
      "0: 768x1280 24 persons, 2383.6ms\n",
      "Speed: 43.8ms preprocess, 2383.6ms inference, 2.0ms postprocess per image at shape (1, 3, 768, 1280)\n",
      "Results saved to \u001b[1mruns\\pose\\predict\u001b[0m\n"
     ]
    }
   ],
   "source": [
    "from ultralytics import YOLO\n",
    "import cv2\n",
    "# Load a model\n",
    "model = YOLO('models/yolov8x-pose-p6.pt', verbose=False)  # load an official model\n",
    "# model = YOLO('path/to/best.pt')  # load a custom model\n",
    "\n",
    "image = cv2.imread(r\"ticketing/frame_0.jpg\")\n",
    "results = model(image, save=True)  # predict on an image\n",
    "\n",
    "# for r in results:\n",
    "#     print(r.keypoints.xy)  # print string of prediction results"
   ]
  },
  {
   "cell_type": "code",
   "execution_count": null,
   "metadata": {},
   "outputs": [],
   "source": []
  }
 ],
 "metadata": {
  "kernelspec": {
   "display_name": ".venv",
   "language": "python",
   "name": "python3"
  },
  "language_info": {
   "codemirror_mode": {
    "name": "ipython",
    "version": 3
   },
   "file_extension": ".py",
   "mimetype": "text/x-python",
   "name": "python",
   "nbconvert_exporter": "python",
   "pygments_lexer": "ipython3",
   "version": "3.12.3"
  }
 },
 "nbformat": 4,
 "nbformat_minor": 2
}
